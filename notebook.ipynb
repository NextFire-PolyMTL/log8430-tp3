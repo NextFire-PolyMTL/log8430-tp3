{
 "cells": [
  {
   "cell_type": "code",
   "execution_count": 67,
   "metadata": {},
   "outputs": [],
   "source": [
    "import re\n",
    "from pathlib import Path\n",
    "\n",
    "import pandas as pd\n",
    "import matplotlib.pyplot as plt\n",
    "import numpy as np\n",
    "import seaborn as sns"
   ]
  },
  {
   "cell_type": "code",
   "execution_count": 19,
   "metadata": {},
   "outputs": [
    {
     "data": {
      "text/html": [
       "<div>\n",
       "<style scoped>\n",
       "    .dataframe tbody tr th:only-of-type {\n",
       "        vertical-align: middle;\n",
       "    }\n",
       "\n",
       "    .dataframe tbody tr th {\n",
       "        vertical-align: top;\n",
       "    }\n",
       "\n",
       "    .dataframe thead th {\n",
       "        text-align: right;\n",
       "    }\n",
       "</style>\n",
       "<table border=\"1\" class=\"dataframe\">\n",
       "  <thead>\n",
       "    <tr style=\"text-align: right;\">\n",
       "      <th></th>\n",
       "      <th>Operation</th>\n",
       "      <th>Metric</th>\n",
       "      <th>Value</th>\n",
       "      <th>Replicas</th>\n",
       "      <th>Database</th>\n",
       "      <th>Workload</th>\n",
       "      <th>Run</th>\n",
       "    </tr>\n",
       "  </thead>\n",
       "  <tbody>\n",
       "    <tr>\n",
       "      <th>0</th>\n",
       "      <td>[OVERALL]</td>\n",
       "      <td>RunTime(ms)</td>\n",
       "      <td>1827.0</td>\n",
       "      <td>3</td>\n",
       "      <td>mongodb</td>\n",
       "      <td>100_0</td>\n",
       "      <td>1</td>\n",
       "    </tr>\n",
       "    <tr>\n",
       "      <th>1</th>\n",
       "      <td>[OVERALL]</td>\n",
       "      <td>Throughput(ops/sec)</td>\n",
       "      <td>547.345375</td>\n",
       "      <td>3</td>\n",
       "      <td>mongodb</td>\n",
       "      <td>100_0</td>\n",
       "      <td>1</td>\n",
       "    </tr>\n",
       "    <tr>\n",
       "      <th>2</th>\n",
       "      <td>[TOTAL_GCS_PS_Scavenge]</td>\n",
       "      <td>Count</td>\n",
       "      <td>3.0</td>\n",
       "      <td>3</td>\n",
       "      <td>mongodb</td>\n",
       "      <td>100_0</td>\n",
       "      <td>1</td>\n",
       "    </tr>\n",
       "    <tr>\n",
       "      <th>3</th>\n",
       "      <td>[TOTAL_GC_TIME_PS_Scavenge]</td>\n",
       "      <td>Time(ms)</td>\n",
       "      <td>24.0</td>\n",
       "      <td>3</td>\n",
       "      <td>mongodb</td>\n",
       "      <td>100_0</td>\n",
       "      <td>1</td>\n",
       "    </tr>\n",
       "    <tr>\n",
       "      <th>4</th>\n",
       "      <td>[TOTAL_GC_TIME_%_PS_Scavenge]</td>\n",
       "      <td>Time(%)</td>\n",
       "      <td>1.313629</td>\n",
       "      <td>3</td>\n",
       "      <td>mongodb</td>\n",
       "      <td>100_0</td>\n",
       "      <td>1</td>\n",
       "    </tr>\n",
       "    <tr>\n",
       "      <th>...</th>\n",
       "      <td>...</td>\n",
       "      <td>...</td>\n",
       "      <td>...</td>\n",
       "      <td>...</td>\n",
       "      <td>...</td>\n",
       "      <td>...</td>\n",
       "      <td>...</td>\n",
       "    </tr>\n",
       "    <tr>\n",
       "      <th>3435</th>\n",
       "      <td>[UPDATE]</td>\n",
       "      <td>MinLatency(us)</td>\n",
       "      <td>285.0</td>\n",
       "      <td>5</td>\n",
       "      <td>redis</td>\n",
       "      <td>50_50</td>\n",
       "      <td>10</td>\n",
       "    </tr>\n",
       "    <tr>\n",
       "      <th>3436</th>\n",
       "      <td>[UPDATE]</td>\n",
       "      <td>MaxLatency(us)</td>\n",
       "      <td>4223.0</td>\n",
       "      <td>5</td>\n",
       "      <td>redis</td>\n",
       "      <td>50_50</td>\n",
       "      <td>10</td>\n",
       "    </tr>\n",
       "    <tr>\n",
       "      <th>3437</th>\n",
       "      <td>[UPDATE]</td>\n",
       "      <td>95thPercentileLatency(us)</td>\n",
       "      <td>702.0</td>\n",
       "      <td>5</td>\n",
       "      <td>redis</td>\n",
       "      <td>50_50</td>\n",
       "      <td>10</td>\n",
       "    </tr>\n",
       "    <tr>\n",
       "      <th>3438</th>\n",
       "      <td>[UPDATE]</td>\n",
       "      <td>99thPercentileLatency(us)</td>\n",
       "      <td>1454.0</td>\n",
       "      <td>5</td>\n",
       "      <td>redis</td>\n",
       "      <td>50_50</td>\n",
       "      <td>10</td>\n",
       "    </tr>\n",
       "    <tr>\n",
       "      <th>3439</th>\n",
       "      <td>[UPDATE]</td>\n",
       "      <td>Return=OK</td>\n",
       "      <td>490.0</td>\n",
       "      <td>5</td>\n",
       "      <td>redis</td>\n",
       "      <td>50_50</td>\n",
       "      <td>10</td>\n",
       "    </tr>\n",
       "  </tbody>\n",
       "</table>\n",
       "<p>3440 rows × 7 columns</p>\n",
       "</div>"
      ],
      "text/plain": [
       "                          Operation                      Metric       Value  \\\n",
       "0                         [OVERALL]                 RunTime(ms)      1827.0   \n",
       "1                         [OVERALL]         Throughput(ops/sec)  547.345375   \n",
       "2           [TOTAL_GCS_PS_Scavenge]                       Count         3.0   \n",
       "3       [TOTAL_GC_TIME_PS_Scavenge]                    Time(ms)        24.0   \n",
       "4     [TOTAL_GC_TIME_%_PS_Scavenge]                     Time(%)    1.313629   \n",
       "...                             ...                         ...         ...   \n",
       "3435                       [UPDATE]              MinLatency(us)       285.0   \n",
       "3436                       [UPDATE]              MaxLatency(us)      4223.0   \n",
       "3437                       [UPDATE]   95thPercentileLatency(us)       702.0   \n",
       "3438                       [UPDATE]   99thPercentileLatency(us)      1454.0   \n",
       "3439                       [UPDATE]                   Return=OK       490.0   \n",
       "\n",
       "     Replicas Database Workload  Run  \n",
       "0           3  mongodb    100_0    1  \n",
       "1           3  mongodb    100_0    1  \n",
       "2           3  mongodb    100_0    1  \n",
       "3           3  mongodb    100_0    1  \n",
       "4           3  mongodb    100_0    1  \n",
       "...       ...      ...      ...  ...  \n",
       "3435        5    redis    50_50   10  \n",
       "3436        5    redis    50_50   10  \n",
       "3437        5    redis    50_50   10  \n",
       "3438        5    redis    50_50   10  \n",
       "3439        5    redis    50_50   10  \n",
       "\n",
       "[3440 rows x 7 columns]"
      ]
     },
     "execution_count": 19,
     "metadata": {},
     "output_type": "execute_result"
    }
   ],
   "source": [
    "results_dir = Path(\"results\")\n",
    "\n",
    "path_re = re.compile(\n",
    "    r\".*\\\\(?P<Replicas>\\d)\\\\(?P<Database>\\w+)\\\\(?P<Workload>\\w+)\\\\(?P<Run>\\w+).csv$\"\n",
    ")\n",
    "\n",
    "df_list: list[pd.DataFrame] = []\n",
    "for file in results_dir.glob(\"**\\\\*.csv\"):\n",
    "    match = path_re.match(str(file))\n",
    "    assert match is not None\n",
    "\n",
    "    df = pd.read_csv(file, \n",
    "                     skiprows=1 if match.group('Database') == \"mongodb\" else 0, \n",
    "                     names=[\"Operation\", \"Metric\", \"Value\"])\n",
    "\n",
    "    for group, value in match.groupdict().items():\n",
    "        df[group] = value\n",
    "\n",
    "    df_list.append(df)\n",
    "    \n",
    "df[\"Metric\"]=df[\"Metric\"].str.strip()\n",
    "df = pd.concat(df_list, ignore_index=True)\n",
    "df = df.convert_dtypes()\n",
    "df = df.astype({\"Run\": \"UInt8\"})\n",
    "del df_list\n",
    "df"
   ]
  },
  {
   "cell_type": "code",
   "execution_count": 134,
   "metadata": {},
   "outputs": [
    {
     "name": "stderr",
     "output_type": "stream",
     "text": [
      "C:\\Users\\pierr\\AppData\\Local\\Temp\\ipykernel_19872\\4208514822.py:1: FutureWarning: The default value of numeric_only in DataFrameGroupBy.mean is deprecated. In a future version, numeric_only will default to False. Either specify numeric_only or select only columns which should be valid for the function.\n",
      "  df.groupby([\"Operation\",\"Metric\"]).mean()\n"
     ]
    },
    {
     "data": {
      "text/html": [
       "<div>\n",
       "<style scoped>\n",
       "    .dataframe tbody tr th:only-of-type {\n",
       "        vertical-align: middle;\n",
       "    }\n",
       "\n",
       "    .dataframe tbody tr th {\n",
       "        vertical-align: top;\n",
       "    }\n",
       "\n",
       "    .dataframe thead th {\n",
       "        text-align: right;\n",
       "    }\n",
       "</style>\n",
       "<table border=\"1\" class=\"dataframe\">\n",
       "  <thead>\n",
       "    <tr style=\"text-align: right;\">\n",
       "      <th></th>\n",
       "      <th></th>\n",
       "      <th>Value</th>\n",
       "      <th>Run</th>\n",
       "    </tr>\n",
       "    <tr>\n",
       "      <th>Operation</th>\n",
       "      <th>Metric</th>\n",
       "      <th></th>\n",
       "      <th></th>\n",
       "    </tr>\n",
       "  </thead>\n",
       "  <tbody>\n",
       "    <tr>\n",
       "      <th rowspan=\"6\" valign=\"top\">[CLEANUP]</th>\n",
       "      <th>95thPercentileLatency(us)</th>\n",
       "      <td>3235.191667</td>\n",
       "      <td>5.5</td>\n",
       "    </tr>\n",
       "    <tr>\n",
       "      <th>99thPercentileLatency(us)</th>\n",
       "      <td>3235.191667</td>\n",
       "      <td>5.5</td>\n",
       "    </tr>\n",
       "    <tr>\n",
       "      <th>AverageLatency(us)</th>\n",
       "      <td>3234.675</td>\n",
       "      <td>5.5</td>\n",
       "    </tr>\n",
       "    <tr>\n",
       "      <th>MaxLatency(us)</th>\n",
       "      <td>3235.191667</td>\n",
       "      <td>5.5</td>\n",
       "    </tr>\n",
       "    <tr>\n",
       "      <th>MinLatency(us)</th>\n",
       "      <td>3233.658333</td>\n",
       "      <td>5.5</td>\n",
       "    </tr>\n",
       "    <tr>\n",
       "      <th>Operations</th>\n",
       "      <td>1.0</td>\n",
       "      <td>5.5</td>\n",
       "    </tr>\n",
       "    <tr>\n",
       "      <th rowspan=\"2\" valign=\"top\">[OVERALL]</th>\n",
       "      <th>RunTime(ms)</th>\n",
       "      <td>2668.1</td>\n",
       "      <td>5.5</td>\n",
       "    </tr>\n",
       "    <tr>\n",
       "      <th>Throughput(ops/sec)</th>\n",
       "      <td>1355.652948</td>\n",
       "      <td>5.5</td>\n",
       "    </tr>\n",
       "    <tr>\n",
       "      <th rowspan=\"7\" valign=\"top\">[READ]</th>\n",
       "      <th>95thPercentileLatency(us)</th>\n",
       "      <td>1644.083333</td>\n",
       "      <td>5.5</td>\n",
       "    </tr>\n",
       "    <tr>\n",
       "      <th>99thPercentileLatency(us)</th>\n",
       "      <td>3986.575</td>\n",
       "      <td>5.5</td>\n",
       "    </tr>\n",
       "    <tr>\n",
       "      <th>AverageLatency(us)</th>\n",
       "      <td>937.217797</td>\n",
       "      <td>5.5</td>\n",
       "    </tr>\n",
       "    <tr>\n",
       "      <th>MaxLatency(us)</th>\n",
       "      <td>40198.233333</td>\n",
       "      <td>5.5</td>\n",
       "    </tr>\n",
       "    <tr>\n",
       "      <th>MinLatency(us)</th>\n",
       "      <td>326.8</td>\n",
       "      <td>5.5</td>\n",
       "    </tr>\n",
       "    <tr>\n",
       "      <th>Operations</th>\n",
       "      <td>534.291667</td>\n",
       "      <td>5.5</td>\n",
       "    </tr>\n",
       "    <tr>\n",
       "      <th>Return=OK</th>\n",
       "      <td>534.291667</td>\n",
       "      <td>5.5</td>\n",
       "    </tr>\n",
       "    <tr>\n",
       "      <th>[TOTAL_GCS_PS_MarkSweep]</th>\n",
       "      <th>Count</th>\n",
       "      <td>0.0</td>\n",
       "      <td>5.5</td>\n",
       "    </tr>\n",
       "    <tr>\n",
       "      <th>[TOTAL_GCS_PS_Scavenge]</th>\n",
       "      <th>Count</th>\n",
       "      <td>1.391667</td>\n",
       "      <td>5.5</td>\n",
       "    </tr>\n",
       "    <tr>\n",
       "      <th>[TOTAL_GC_TIME]</th>\n",
       "      <th>Time(ms)</th>\n",
       "      <td>10.008333</td>\n",
       "      <td>5.5</td>\n",
       "    </tr>\n",
       "    <tr>\n",
       "      <th>[TOTAL_GC_TIME_%]</th>\n",
       "      <th>Time(%)</th>\n",
       "      <td>0.309545</td>\n",
       "      <td>5.5</td>\n",
       "    </tr>\n",
       "    <tr>\n",
       "      <th>[TOTAL_GC_TIME_%_PS_MarkSweep]</th>\n",
       "      <th>Time(%)</th>\n",
       "      <td>0.0</td>\n",
       "      <td>5.5</td>\n",
       "    </tr>\n",
       "    <tr>\n",
       "      <th>[TOTAL_GC_TIME_%_PS_Scavenge]</th>\n",
       "      <th>Time(%)</th>\n",
       "      <td>0.309545</td>\n",
       "      <td>5.5</td>\n",
       "    </tr>\n",
       "    <tr>\n",
       "      <th>[TOTAL_GC_TIME_PS_MarkSweep]</th>\n",
       "      <th>Time(ms)</th>\n",
       "      <td>0.0</td>\n",
       "      <td>5.5</td>\n",
       "    </tr>\n",
       "    <tr>\n",
       "      <th>[TOTAL_GC_TIME_PS_Scavenge]</th>\n",
       "      <th>Time(ms)</th>\n",
       "      <td>10.008333</td>\n",
       "      <td>5.5</td>\n",
       "    </tr>\n",
       "    <tr>\n",
       "      <th>[TOTAL_GCs]</th>\n",
       "      <th>Count</th>\n",
       "      <td>1.391667</td>\n",
       "      <td>5.5</td>\n",
       "    </tr>\n",
       "    <tr>\n",
       "      <th rowspan=\"7\" valign=\"top\">[UPDATE]</th>\n",
       "      <th>95thPercentileLatency(us)</th>\n",
       "      <td>5834.65</td>\n",
       "      <td>5.5</td>\n",
       "    </tr>\n",
       "    <tr>\n",
       "      <th>99thPercentileLatency(us)</th>\n",
       "      <td>9658.5625</td>\n",
       "      <td>5.5</td>\n",
       "    </tr>\n",
       "    <tr>\n",
       "      <th>AverageLatency(us)</th>\n",
       "      <td>4011.368801</td>\n",
       "      <td>5.5</td>\n",
       "    </tr>\n",
       "    <tr>\n",
       "      <th>MaxLatency(us)</th>\n",
       "      <td>69817.2</td>\n",
       "      <td>5.5</td>\n",
       "    </tr>\n",
       "    <tr>\n",
       "      <th>MinLatency(us)</th>\n",
       "      <td>2197.5375</td>\n",
       "      <td>5.5</td>\n",
       "    </tr>\n",
       "    <tr>\n",
       "      <th>Operations</th>\n",
       "      <td>698.5625</td>\n",
       "      <td>5.5</td>\n",
       "    </tr>\n",
       "    <tr>\n",
       "      <th>Return=OK</th>\n",
       "      <td>698.5625</td>\n",
       "      <td>5.5</td>\n",
       "    </tr>\n",
       "  </tbody>\n",
       "</table>\n",
       "</div>"
      ],
      "text/plain": [
       "                                                                 Value  Run\n",
       "Operation                      Metric                                      \n",
       "[CLEANUP]                      95thPercentileLatency(us)   3235.191667  5.5\n",
       "                               99thPercentileLatency(us)   3235.191667  5.5\n",
       "                               AverageLatency(us)             3234.675  5.5\n",
       "                               MaxLatency(us)              3235.191667  5.5\n",
       "                               MinLatency(us)              3233.658333  5.5\n",
       "                               Operations                          1.0  5.5\n",
       "[OVERALL]                      RunTime(ms)                      2668.1  5.5\n",
       "                               Throughput(ops/sec)         1355.652948  5.5\n",
       "[READ]                         95thPercentileLatency(us)   1644.083333  5.5\n",
       "                               99thPercentileLatency(us)      3986.575  5.5\n",
       "                               AverageLatency(us)           937.217797  5.5\n",
       "                               MaxLatency(us)             40198.233333  5.5\n",
       "                               MinLatency(us)                    326.8  5.5\n",
       "                               Operations                   534.291667  5.5\n",
       "                               Return=OK                    534.291667  5.5\n",
       "[TOTAL_GCS_PS_MarkSweep]       Count                               0.0  5.5\n",
       "[TOTAL_GCS_PS_Scavenge]        Count                          1.391667  5.5\n",
       "[TOTAL_GC_TIME]                Time(ms)                      10.008333  5.5\n",
       "[TOTAL_GC_TIME_%]              Time(%)                        0.309545  5.5\n",
       "[TOTAL_GC_TIME_%_PS_MarkSweep] Time(%)                             0.0  5.5\n",
       "[TOTAL_GC_TIME_%_PS_Scavenge]  Time(%)                        0.309545  5.5\n",
       "[TOTAL_GC_TIME_PS_MarkSweep]   Time(ms)                            0.0  5.5\n",
       "[TOTAL_GC_TIME_PS_Scavenge]    Time(ms)                      10.008333  5.5\n",
       "[TOTAL_GCs]                    Count                          1.391667  5.5\n",
       "[UPDATE]                       95thPercentileLatency(us)       5834.65  5.5\n",
       "                               99thPercentileLatency(us)     9658.5625  5.5\n",
       "                               AverageLatency(us)          4011.368801  5.5\n",
       "                               MaxLatency(us)                  69817.2  5.5\n",
       "                               MinLatency(us)                2197.5375  5.5\n",
       "                               Operations                     698.5625  5.5\n",
       "                               Return=OK                      698.5625  5.5"
      ]
     },
     "execution_count": 134,
     "metadata": {},
     "output_type": "execute_result"
    }
   ],
   "source": [
    "df.groupby([\"Operation\",\"Metric\"]).mean()"
   ]
  },
  {
   "cell_type": "code",
   "execution_count": 30,
   "metadata": {},
   "outputs": [
    {
     "data": {
      "text/plain": [
       "'RunTime(ms)'"
      ]
     },
     "execution_count": 30,
     "metadata": {},
     "output_type": "execute_result"
    }
   ],
   "source": [
    "df[\"Metric\"][0]"
   ]
  },
  {
   "cell_type": "markdown",
   "metadata": {},
   "source": [
    "# Runtime [OVERALL]"
   ]
  },
  {
   "cell_type": "code",
   "execution_count": 111,
   "metadata": {},
   "outputs": [],
   "source": [
    "run_time=df.loc[(df[\"Operation\"]==\"[OVERALL]\")& (df[\"Metric\"]==\"RunTime(ms)\")]"
   ]
  },
  {
   "cell_type": "markdown",
   "metadata": {},
   "source": [
    "## Workload 100_0"
   ]
  },
  {
   "cell_type": "code",
   "execution_count": 93,
   "metadata": {},
   "outputs": [
    {
     "data": {
      "text/plain": [
       "Text(0, 0.5, 'Runtime(ms)')"
      ]
     },
     "execution_count": 93,
     "metadata": {},
     "output_type": "execute_result"
    },
    {
     "data": {
      "image/png": "[encoded data removed]",
      "text/plain": [
       "<Figure size 360x432 with 1 Axes>"
      ]
     },
     "metadata": {
      "needs_background": "light"
     },
     "output_type": "display_data"
    }
   ],
   "source": [
    "run_time_100_0=run_time[(run_time[\"Workload\"]==\"100_0\")]\n",
    "plt.figure(figsize=(5,6))\n",
    "sns.boxplot(data=run_time_100_0,x='Database', y='Value',  hue='Replicas')\n",
    "plt.ylabel(\"Runtime(ms)\")"
   ]
  },
  {
   "cell_type": "markdown",
   "metadata": {},
   "source": [
    "## Workload 50_50"
   ]
  },
  {
   "cell_type": "code",
   "execution_count": 110,
   "metadata": {},
   "outputs": [
    {
     "data": {
      "text/plain": [
       "Text(0, 0.5, 'Runtime(ms)')"
      ]
     },
     "execution_count": 110,
     "metadata": {},
     "output_type": "execute_result"
    },
    {
     "data": {
      "image/png": "[encoded data removed]",
      "text/plain": [
       "<Figure size 360x432 with 1 Axes>"
      ]
     },
     "metadata": {
      "needs_background": "light"
     },
     "output_type": "display_data"
    }
   ],
   "source": [
    "run_time_50_50=run_time[(run_time[\"Workload\"]==\"50_50\")]\n",
    "plt.figure(figsize=(5,6))\n",
    "sns.boxplot(data=run_time_50_50,x='Database', y='Value',  hue='Replicas')\n",
    "plt.ylabel(\"Runtime(ms)\")"
   ]
  },
  {
   "cell_type": "markdown",
   "metadata": {},
   "source": [
    "## Workload 10_90"
   ]
  },
  {
   "cell_type": "code",
   "execution_count": 149,
   "metadata": {},
   "outputs": [
    {
     "data": {
      "text/plain": [
       "Text(0, 0.5, 'Runtime(ms)')"
      ]
     },
     "execution_count": 149,
     "metadata": {},
     "output_type": "execute_result"
    },
    {
     "data": {
      "image/png": "[encoded data removed]",
      "text/plain": [
       "<Figure size 360x432 with 1 Axes>"
      ]
     },
     "metadata": {
      "needs_background": "light"
     },
     "output_type": "display_data"
    }
   ],
   "source": [
    "run_time_10_90=run_time[(run_time[\"Workload\"]==\"10_90\")]\n",
    "plt.figure(figsize=(5,6))\n",
    "sns.boxplot(data=run_time_10_90,x='Database', y='Value',  hue='Replicas')\n",
    "plt.ylabel(\"Runtime(ms)\")"
   ]
  },
  {
   "cell_type": "markdown",
   "metadata": {},
   "source": [
    "# Throughput(ops/sec) [OVERALL]"
   ]
  },
  {
   "cell_type": "code",
   "execution_count": 112,
   "metadata": {},
   "outputs": [],
   "source": [
    "throughput=df.loc[(df[\"Operation\"]==\"[OVERALL]\")& (df[\"Metric\"]==\"Throughput(ops/sec)\")]"
   ]
  },
  {
   "cell_type": "markdown",
   "metadata": {},
   "source": [
    "## Workload 100_0"
   ]
  },
  {
   "cell_type": "code",
   "execution_count": 122,
   "metadata": {},
   "outputs": [
    {
     "data": {
      "text/plain": [
       "Text(0, 0.5, 'Throughput(ops/sec)')"
      ]
     },
     "execution_count": 122,
     "metadata": {},
     "output_type": "execute_result"
    },
    {
     "data": {
      "image/png": "[encoded data removed]",
      "text/plain": [
       "<Figure size 360x432 with 1 Axes>"
      ]
     },
     "metadata": {
      "needs_background": "light"
     },
     "output_type": "display_data"
    }
   ],
   "source": [
    "throughput_100_0=throughput[(throughput[\"Workload\"]==\"100_0\")]\n",
    "plt.figure(figsize=(5,6))\n",
    "sns.boxplot(data=throughput_100_0,x='Database', y='Value',  hue='Replicas')\n",
    "plt.ylabel(\"Throughput(ops/sec)\")"
   ]
  },
  {
   "cell_type": "markdown",
   "metadata": {},
   "source": [
    "## Workload 50_50"
   ]
  },
  {
   "cell_type": "code",
   "execution_count": 126,
   "metadata": {},
   "outputs": [
    {
     "data": {
      "text/plain": [
       "Text(0, 0.5, 'Throughput(ops/sec)')"
      ]
     },
     "execution_count": 126,
     "metadata": {},
     "output_type": "execute_result"
    },
    {
     "data": {
      "image/png": "[encoded data removed]",
      "text/plain": [
       "<Figure size 360x432 with 1 Axes>"
      ]
     },
     "metadata": {
      "needs_background": "light"
     },
     "output_type": "display_data"
    }
   ],
   "source": [
    "throughput_50_50=throughput[(throughput[\"Workload\"]==\"50_50\")]\n",
    "plt.figure(figsize=(5,6))\n",
    "sns.boxplot(data=throughput_50_50,x='Database', y='Value',  hue='Replicas')\n",
    "plt.ylabel(\"Throughput(ops/sec)\")"
   ]
  },
  {
   "cell_type": "markdown",
   "metadata": {},
   "source": [
    "# AverageLatency(us) [UPDATE]"
   ]
  },
  {
   "cell_type": "code",
   "execution_count": 137,
   "metadata": {},
   "outputs": [],
   "source": [
    "averagelatency=df.loc[(df[\"Operation\"]==\"[UPDATE]\")& (df[\"Metric\"]==\"AverageLatency(us)\")]"
   ]
  },
  {
   "cell_type": "code",
   "execution_count": 138,
   "metadata": {},
   "outputs": [
    {
     "data": {
      "text/html": [
       "<div>\n",
       "<style scoped>\n",
       "    .dataframe tbody tr th:only-of-type {\n",
       "        vertical-align: middle;\n",
       "    }\n",
       "\n",
       "    .dataframe tbody tr th {\n",
       "        vertical-align: top;\n",
       "    }\n",
       "\n",
       "    .dataframe thead th {\n",
       "        text-align: right;\n",
       "    }\n",
       "</style>\n",
       "<table border=\"1\" class=\"dataframe\">\n",
       "  <thead>\n",
       "    <tr style=\"text-align: right;\">\n",
       "      <th></th>\n",
       "      <th>Operation</th>\n",
       "      <th>Metric</th>\n",
       "      <th>Value</th>\n",
       "      <th>Replicas</th>\n",
       "      <th>Database</th>\n",
       "      <th>Workload</th>\n",
       "      <th>Run</th>\n",
       "    </tr>\n",
       "  </thead>\n",
       "  <tbody>\n",
       "    <tr>\n",
       "      <th>265</th>\n",
       "      <td>[UPDATE]</td>\n",
       "      <td>AverageLatency(us)</td>\n",
       "      <td>6672.92436</td>\n",
       "      <td>3</td>\n",
       "      <td>mongodb</td>\n",
       "      <td>10_90</td>\n",
       "      <td>1</td>\n",
       "    </tr>\n",
       "    <tr>\n",
       "      <th>296</th>\n",
       "      <td>[UPDATE]</td>\n",
       "      <td>AverageLatency(us)</td>\n",
       "      <td>5971.70011</td>\n",
       "      <td>3</td>\n",
       "      <td>mongodb</td>\n",
       "      <td>10_90</td>\n",
       "      <td>2</td>\n",
       "    </tr>\n",
       "    <tr>\n",
       "      <th>327</th>\n",
       "      <td>[UPDATE]</td>\n",
       "      <td>AverageLatency(us)</td>\n",
       "      <td>5876.913091</td>\n",
       "      <td>3</td>\n",
       "      <td>mongodb</td>\n",
       "      <td>10_90</td>\n",
       "      <td>3</td>\n",
       "    </tr>\n",
       "    <tr>\n",
       "      <th>358</th>\n",
       "      <td>[UPDATE]</td>\n",
       "      <td>AverageLatency(us)</td>\n",
       "      <td>7109.626697</td>\n",
       "      <td>3</td>\n",
       "      <td>mongodb</td>\n",
       "      <td>10_90</td>\n",
       "      <td>4</td>\n",
       "    </tr>\n",
       "    <tr>\n",
       "      <th>389</th>\n",
       "      <td>[UPDATE]</td>\n",
       "      <td>AverageLatency(us)</td>\n",
       "      <td>6207.932967</td>\n",
       "      <td>3</td>\n",
       "      <td>mongodb</td>\n",
       "      <td>10_90</td>\n",
       "      <td>5</td>\n",
       "    </tr>\n",
       "    <tr>\n",
       "      <th>...</th>\n",
       "      <td>...</td>\n",
       "      <td>...</td>\n",
       "      <td>...</td>\n",
       "      <td>...</td>\n",
       "      <td>...</td>\n",
       "      <td>...</td>\n",
       "      <td>...</td>\n",
       "    </tr>\n",
       "    <tr>\n",
       "      <th>3310</th>\n",
       "      <td>[UPDATE]</td>\n",
       "      <td>AverageLatency(us)</td>\n",
       "      <td>537.763916</td>\n",
       "      <td>5</td>\n",
       "      <td>redis</td>\n",
       "      <td>50_50</td>\n",
       "      <td>6</td>\n",
       "    </tr>\n",
       "    <tr>\n",
       "      <th>3341</th>\n",
       "      <td>[UPDATE]</td>\n",
       "      <td>AverageLatency(us)</td>\n",
       "      <td>452.608519</td>\n",
       "      <td>5</td>\n",
       "      <td>redis</td>\n",
       "      <td>50_50</td>\n",
       "      <td>7</td>\n",
       "    </tr>\n",
       "    <tr>\n",
       "      <th>3372</th>\n",
       "      <td>[UPDATE]</td>\n",
       "      <td>AverageLatency(us)</td>\n",
       "      <td>506.496</td>\n",
       "      <td>5</td>\n",
       "      <td>redis</td>\n",
       "      <td>50_50</td>\n",
       "      <td>8</td>\n",
       "    </tr>\n",
       "    <tr>\n",
       "      <th>3403</th>\n",
       "      <td>[UPDATE]</td>\n",
       "      <td>AverageLatency(us)</td>\n",
       "      <td>507.888446</td>\n",
       "      <td>5</td>\n",
       "      <td>redis</td>\n",
       "      <td>50_50</td>\n",
       "      <td>9</td>\n",
       "    </tr>\n",
       "    <tr>\n",
       "      <th>3434</th>\n",
       "      <td>[UPDATE]</td>\n",
       "      <td>AverageLatency(us)</td>\n",
       "      <td>493.65102</td>\n",
       "      <td>5</td>\n",
       "      <td>redis</td>\n",
       "      <td>50_50</td>\n",
       "      <td>10</td>\n",
       "    </tr>\n",
       "  </tbody>\n",
       "</table>\n",
       "<p>80 rows × 7 columns</p>\n",
       "</div>"
      ],
      "text/plain": [
       "     Operation              Metric        Value Replicas Database Workload  \\\n",
       "265   [UPDATE]  AverageLatency(us)   6672.92436        3  mongodb    10_90   \n",
       "296   [UPDATE]  AverageLatency(us)   5971.70011        3  mongodb    10_90   \n",
       "327   [UPDATE]  AverageLatency(us)  5876.913091        3  mongodb    10_90   \n",
       "358   [UPDATE]  AverageLatency(us)  7109.626697        3  mongodb    10_90   \n",
       "389   [UPDATE]  AverageLatency(us)  6207.932967        3  mongodb    10_90   \n",
       "...        ...                 ...          ...      ...      ...      ...   \n",
       "3310  [UPDATE]  AverageLatency(us)   537.763916        5    redis    50_50   \n",
       "3341  [UPDATE]  AverageLatency(us)   452.608519        5    redis    50_50   \n",
       "3372  [UPDATE]  AverageLatency(us)      506.496        5    redis    50_50   \n",
       "3403  [UPDATE]  AverageLatency(us)   507.888446        5    redis    50_50   \n",
       "3434  [UPDATE]  AverageLatency(us)    493.65102        5    redis    50_50   \n",
       "\n",
       "      Run  \n",
       "265     1  \n",
       "296     2  \n",
       "327     3  \n",
       "358     4  \n",
       "389     5  \n",
       "...   ...  \n",
       "3310    6  \n",
       "3341    7  \n",
       "3372    8  \n",
       "3403    9  \n",
       "3434   10  \n",
       "\n",
       "[80 rows x 7 columns]"
      ]
     },
     "execution_count": 138,
     "metadata": {},
     "output_type": "execute_result"
    }
   ],
   "source": [
    "averagelatency"
   ]
  },
  {
   "cell_type": "markdown",
   "metadata": {},
   "source": [
    "## Workload 50_50"
   ]
  },
  {
   "cell_type": "code",
   "execution_count": 142,
   "metadata": {},
   "outputs": [
    {
     "data": {
      "text/plain": [
       "Text(0, 0.5, 'AverageLatency(us)')"
      ]
     },
     "execution_count": 142,
     "metadata": {},
     "output_type": "execute_result"
    },
    {
     "data": {
      "image/png": "[encoded data removed]",
      "text/plain": [
       "<Figure size 360x432 with 1 Axes>"
      ]
     },
     "metadata": {
      "needs_background": "light"
     },
     "output_type": "display_data"
    }
   ],
   "source": [
    "averagelatency_50_50=averagelatency[(averagelatency[\"Workload\"]==\"50_50\")]\n",
    "plt.figure(figsize=(5,6))\n",
    "sns.boxplot(data=averagelatency_50_50,x='Database', y='Value',  hue='Replicas')\n",
    "plt.ylabel(\"AverageLatency(us)\")"
   ]
  },
  {
   "cell_type": "markdown",
   "metadata": {},
   "source": [
    "# MinLatency(us) [UPDATE]"
   ]
  },
  {
   "cell_type": "code",
   "execution_count": 146,
   "metadata": {},
   "outputs": [],
   "source": [
    "minlatency=df.loc[(df[\"Operation\"]==\"[UPDATE]\")& (df[\"Metric\"]==\"MinLatency(us)\")]"
   ]
  },
  {
   "cell_type": "code",
   "execution_count": 148,
   "metadata": {},
   "outputs": [
    {
     "data": {
      "text/plain": [
       "Text(0, 0.5, 'MinLatency(us)')"
      ]
     },
     "execution_count": 148,
     "metadata": {},
     "output_type": "execute_result"
    },
    {
     "data": {
      "image/png": "[encoded data removed]",
      "text/plain": [
       "<Figure size 360x432 with 1 Axes>"
      ]
     },
     "metadata": {
      "needs_background": "light"
     },
     "output_type": "display_data"
    }
   ],
   "source": [
    "minlatency_50_50=minlatency[(minlatency[\"Workload\"]==\"50_50\")]\n",
    "plt.figure(figsize=(5,6))\n",
    "sns.boxplot(data=minlatency_50_50,x='Database', y='Value',  hue='Replicas')\n",
    "plt.ylabel(\"MinLatency(us)\")"
   ]
  },
  {
   "cell_type": "markdown",
   "metadata": {},
   "source": [
    "# AverageLatency(us) [READ]"
   ]
  },
  {
   "cell_type": "code",
   "execution_count": 155,
   "metadata": {},
   "outputs": [],
   "source": [
    "AverageLatency=df.loc[(df[\"Operation\"]==\"[READ]\")& (df[\"Metric\"]==\"AverageLatency(us)\")]"
   ]
  },
  {
   "cell_type": "markdown",
   "metadata": {},
   "source": [
    "## Workload 100_0"
   ]
  },
  {
   "cell_type": "code",
   "execution_count": 158,
   "metadata": {},
   "outputs": [
    {
     "data": {
      "text/plain": [
       "Text(0, 0.5, 'AverageLatency(us)')"
      ]
     },
     "execution_count": 158,
     "metadata": {},
     "output_type": "execute_result"
    },
    {
     "data": {
      "image/png": "[encoded data removed]",
      "text/plain": [
       "<Figure size 360x432 with 1 Axes>"
      ]
     },
     "metadata": {
      "needs_background": "light"
     },
     "output_type": "display_data"
    }
   ],
   "source": [
    "AverageLatency_100_0=AverageLatency[(AverageLatency[\"Workload\"]==\"100_0\")]\n",
    "plt.figure(figsize=(5,6))\n",
    "sns.boxplot(data=AverageLatency_100_0,x='Database', y='Value',  hue='Replicas')\n",
    "plt.ylabel(\"AverageLatency(us)\")"
   ]
  }
 ],
 "metadata": {
  "kernelspec": {
   "display_name": ".venv",
   "language": "python",
   "name": "python3"
  },
  "language_info": {
   "codemirror_mode": {
    "name": "ipython",
    "version": 3
   },
   "file_extension": ".py",
   "mimetype": "text/x-python",
   "name": "python",
   "nbconvert_exporter": "python",
   "pygments_lexer": "ipython3",
   "version": "3.10.0"
  }
 },
 "nbformat": 4,
 "nbformat_minor": 2
}
